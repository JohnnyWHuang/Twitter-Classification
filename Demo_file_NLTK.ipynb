{
 "cells": [
  {
   "cell_type": "markdown",
   "metadata": {},
   "source": [
    "Society Name: Monash Data Science Society <br> \n",
    "Date: 13/03/2021<br>\n",
    "<br>\n",
    "Version: 1.0\n",
    "<br>\n",
    "Environment: Python 3.6.0 and Anaconda 4.3.0 (64-bit)\n",
    "<br>\n",
    "Libraries used:<br>\n",
    "Libraries used: \n",
    "* nltk 3.2.2 (Natural Language Toolkit, included in Anaconda Python 3.6)\n",
    "* nltk.collocations (for finding bigrams, included in Anaconda Python 3.6)\n",
    "* nltk.tokenize (for tokenization, included in Anaconda Python 3.6)\n",
    "\n",
    "\n",
    "1. Introduction\n",
    "The task is to extract data into a proper format from text data using packages of NLTK \n",
    "The few steps are as follow: \n",
    " \n",
    "- removing stopwords\n",
    "- tokenisation of strings\n",
    "- Stemming\n",
    "- lemmatization\n",
    "- PoS tagging\n",
    "- Bag of words \n",
    "- TF-IDF\n",
    "\n",
    "\n",
    "More details for each task will be given in the following sections."
   ]
  },
  {
   "cell_type": "code",
   "execution_count": null,
   "metadata": {},
   "outputs": [],
   "source": [
    "##   Import libraries "
   ]
  },
  {
   "cell_type": "code",
   "execution_count": 4,
   "metadata": {},
   "outputs": [],
   "source": [
    "import pandas as pd\n",
    "import langid\n",
    "import numpy as np"
   ]
  },
  {
   "cell_type": "markdown",
   "metadata": {},
   "source": [
    "##  text tokenisation \n",
    "\n",
    "1. importing the nltk packages\n",
    "2. running a regex tokeniser"
   ]
  },
  {
   "cell_type": "code",
   "execution_count": 5,
   "metadata": {},
   "outputs": [
    {
     "name": "stdout",
     "output_type": "stream",
     "text": [
      "I have also just graduated from a summer scholarship where I was developing digital solutions and novel interactive components for medical use, which further widened my thoughts on what can be developed in this field. I am eager to further my career and gain more experience through this position, where I can apply my extensive knowledge interests and skills. The Institute’s tradition of excellence and its reputation for intellectual rigor are matched by my own passion for quality and my commitment to the future development of health policy research.I have extensive experience in policy research and data analysis and statistical modelling.\n"
     ]
    }
   ],
   "source": [
    "text=\"I have also just graduated from a summer scholarship where I was developing digital solutions and novel interactive components for medical use, which further widened my thoughts on what can be developed in this field. I am eager to further my career and gain more experience through this position, where I can apply my extensive knowledge interests and skills. The Institute’s tradition of excellence and its reputation for intellectual rigor are matched by my own passion for quality and my commitment to the future development of health policy research.I have extensive experience in policy research and data analysis and statistical modelling.\"\n",
    "print(text)"
   ]
  },
  {
   "cell_type": "code",
   "execution_count": 6,
   "metadata": {},
   "outputs": [
    {
     "name": "stdout",
     "output_type": "stream",
     "text": [
      "['i', 'have', 'also', 'just', 'graduated', 'from', 'a', 'summer', 'scholarship', 'where', 'i', 'was', 'developing', 'digital', 'solutions', 'and', 'novel', 'interactive', 'components', 'for', 'medical', 'use', 'which', 'further', 'widened', 'my', 'thoughts', 'on', 'what', 'can', 'be', 'developed', 'in', 'this', 'field', 'i', 'am', 'eager', 'to', 'further', 'my', 'career', 'and', 'gain', 'more', 'experience', 'through', 'this', 'position', 'where', 'i', 'can', 'apply', 'my', 'extensive', 'knowledge', 'interests', 'and', 'skills', 'the', 'institute', 's', 'tradition', 'of', 'excellence', 'and', 'its', 'reputation', 'for', 'intellectual', 'rigor', 'are', 'matched', 'by', 'my', 'own', 'passion', 'for', 'quality', 'and', 'my', 'commitment', 'to', 'the', 'future', 'development', 'of', 'health', 'policy', 'research', 'i', 'have', 'extensive', 'experience', 'in', 'policy', 'research', 'and', 'data', 'analysis', 'and', 'statistical', 'modelling']\n"
     ]
    }
   ],
   "source": [
    "#Tokenisation part  \n",
    "from nltk.tokenize import RegexpTokenizer \n",
    "\n",
    "tokenizer = RegexpTokenizer(r\"[a-zA-Z]+(?:[-'][a-zA-Z]+)?\") #rule based tokenisation               \n",
    "text_tokens= tokenizer.tokenize(text.lower())\n",
    "\n",
    "print(text_tokens)"
   ]
  },
  {
   "cell_type": "markdown",
   "metadata": {},
   "source": [
    "###  Removing stopwords\n",
    "\n",
    "1. read the file of context independent stopwords\n",
    "2. store it in a list\n",
    "3. using function remove the stopwords from the list of tokens\n"
   ]
  },
  {
   "cell_type": "code",
   "execution_count": 5,
   "metadata": {},
   "outputs": [],
   "source": [
    "#removing the stop words from the stopwords file \n",
    "#open stopwords file and write words to a list then compare it with the dataframe: df_grouped1\n",
    "\n",
    "stopwords = []\n",
    "with open('./stopwords_en.txt') as f:\n",
    "    stopwords = f.read().splitlines()\n",
    "stopwords = set(stopwords)    \n",
    "#print(stopwords) "
   ]
  },
  {
   "cell_type": "code",
   "execution_count": 6,
   "metadata": {},
   "outputs": [
    {
     "name": "stdout",
     "output_type": "stream",
     "text": [
      "['graduated', 'summer', 'scholarship', 'developing', 'digital', 'solutions', 'interactive', 'components', 'medical', 'widened', 'thoughts', 'developed', 'field', 'eager', 'career', 'gain', 'experience', 'position', 'apply', 'extensive', 'knowledge', 'interests', 'skills', 'institute', 'tradition', 'excellence', 'reputation', 'intellectual', 'rigor', 'matched', 'passion', 'quality', 'commitment', 'future', 'development', 'health', 'policy', 'research', 'extensive', 'experience', 'policy', 'research', 'data', 'analysis', 'statistical', 'modelling']\n"
     ]
    }
   ],
   "source": [
    "text_ws = []\n",
    "for item in text_tokens:\n",
    "    if item not in stopwords:\n",
    "        text_ws.append(item)\n",
    "print(text_ws)"
   ]
  },
  {
   "cell_type": "markdown",
   "metadata": {},
   "source": [
    "###  Stemming \n",
    "\n",
    "In linguistic morphology and information retrieval, stemming is the process of reducing inflected words to their word stem, base or root form—generally a written word form\n",
    "\n",
    "1. import the porter stemmer package from nltk.stem\n",
    "2. stem the words using a function and save it"
   ]
  },
  {
   "cell_type": "code",
   "execution_count": 8,
   "metadata": {},
   "outputs": [
    {
     "name": "stdout",
     "output_type": "stream",
     "text": [
      "['graduat', 'summer', 'scholarship', 'develop', 'digit', 'solut', 'interact', 'compon', 'medic', 'widen', 'thought', 'develop', 'field', 'eager', 'career', 'gain', 'experi', 'posit', 'appli', 'extens', 'knowledg', 'interest', 'skill', 'institut', 'tradit', 'excel', 'reput', 'intellectu', 'rigor', 'match', 'passion', 'qualiti', 'commit', 'futur', 'develop', 'health', 'polici', 'research', 'extens', 'experi', 'polici', 'research', 'data', 'analysi', 'statist', 'model']\n"
     ]
    }
   ],
   "source": [
    "#stemmed using the Porter stemmer.\n",
    "from nltk.stem.porter import *\n",
    "stemmer = PorterStemmer() #here porter stemmer is used because it has a lower error rate and is more efficient\n",
    "\n",
    "text_stem=[]\n",
    "\n",
    "for item in text_ws:\n",
    "    text_stem.append(stemmer.stem(item))\n",
    "print(text_stem)                       "
   ]
  },
  {
   "cell_type": "markdown",
   "metadata": {},
   "source": [
    "## Lemmatization\n",
    "\n",
    "Lemmatization is the process of grouping together the different inflected forms of a word so they can be analysed as a single item. Lemmatization is similar to stemming but it brings context to the words. So it links words with similar meaning to one word."
   ]
  },
  {
   "cell_type": "code",
   "execution_count": 11,
   "metadata": {},
   "outputs": [
    {
     "name": "stdout",
     "output_type": "stream",
     "text": [
      "['graduated', 'summer', 'scholarship', 'developing', 'digital', 'solution', 'interactive', 'component', 'medical', 'widened', 'thought', 'developed', 'field', 'eager', 'career', 'gain', 'experience', 'position', 'apply', 'extensive', 'knowledge', 'interest', 'skill', 'institute', 'tradition', 'excellence', 'reputation', 'intellectual', 'rigor', 'matched', 'passion', 'quality', 'commitment', 'future', 'development', 'health', 'policy', 'research', 'extensive', 'experience', 'policy', 'research', 'data', 'analysis', 'statistical', 'modelling']\n"
     ]
    }
   ],
   "source": [
    "#importing the libraries \n",
    "# import these modules \n",
    "from nltk.stem import WordNetLemmatizer \n",
    "  \n",
    "lemmatizer = WordNetLemmatizer() \n",
    "text_lemma=[]\n",
    "for item in text_ws:\n",
    "    text_lemma.append(lemmatizer.lemmatize(item))\n",
    "\n",
    "print(text_lemma)"
   ]
  },
  {
   "cell_type": "markdown",
   "metadata": {},
   "source": [
    "## Pos tagging (Parts of speech tagging)\n",
    "\n",
    "The POS tagger in the NLTK library outputs specific tags for certain words. The list of POS tags is as follows, with examples of what each POS stands for.\n",
    "<br>\n",
    "- CC coordinating conjunction\n",
    "- CD cardinal digit\n",
    "- DT determiner\n",
    "- EX existential there (like: “there is” … think of it like “there exists”)\n",
    "- FW foreign word\n",
    "- IN preposition/subordinating conjunction\n",
    "- JJ adjective ‘big’\n",
    "- JJR adjective, comparative ‘bigger’\n",
    "- JJS adjective, superlative ‘biggest’\n",
    "- LS list marker 1)\n",
    "- MD modal could, will\n",
    "- NN noun, singular ‘desk’\n",
    "- NNS noun plural ‘desks’\n",
    "- NNP proper noun, singular ‘Harrison’\n",
    "- NNPS proper noun, plural ‘Americans’\n",
    "- PDT predeterminer ‘all the kids’\n",
    "- POS possessive ending parent’s\n",
    "- PRP personal pronoun I, he, she\n",
    "- PRP possessive pronoun my, his, hers\n",
    "- RB adverb very, silently,\n",
    "- RBR adverb, comparative better\n",
    "- RBS adverb, superlative best\n",
    "- RP particle give up\n",
    "- TO, to go ‘to’ the store.\n",
    "- UH interjection, errrrrrrrm\n",
    "- VB verb, base form take\n",
    "- VBD verb, past tense took\n",
    "- VBG verb, gerund/present participle taking\n",
    "- VBN verb, past participle taken\n",
    "- VBP verb, sing. present, non-3d take\n",
    "- VBZ verb, 3rd person sing. present takes\n",
    "- WDT wh-determiner which\n",
    "- WP wh-pronoun who, what\n",
    "- WP possessive wh-pronoun whose\n",
    "- WRB wh-abverb where, when"
   ]
  },
  {
   "cell_type": "code",
   "execution_count": 17,
   "metadata": {},
   "outputs": [
    {
     "name": "stdout",
     "output_type": "stream",
     "text": [
      "[('graduat', 'NN'), ('summer', 'NN'), ('scholarship', 'NN'), ('develop', 'VB'), ('digit', 'JJ'), ('solut', 'NN'), ('interact', 'NN'), ('compon', 'NN'), ('medic', 'JJ'), ('widen', 'NN'), ('thought', 'VBD'), ('develop', 'RB'), ('field', 'NN'), ('eager', 'JJ'), ('career', 'NN'), ('gain', 'NN'), ('experi', 'JJ'), ('posit', 'NN'), ('appli', 'NN'), ('extens', 'VBZ'), ('knowledg', 'JJ'), ('interest', 'NN'), ('skill', 'NN'), ('institut', 'VB'), ('tradit', 'NN'), ('excel', 'NN'), ('reput', 'NN'), ('intellectu', 'JJ'), ('rigor', 'NN'), ('match', 'NN'), ('passion', 'NN'), ('qualiti', 'FW'), ('commit', 'NN'), ('futur', 'VBP'), ('develop', 'VB'), ('health', 'NN'), ('polici', 'NN'), ('research', 'NN'), ('extens', 'VBZ'), ('experi', 'JJ'), ('polici', 'IN'), ('research', 'NN'), ('data', 'NNS'), ('analysi', 'VBP'), ('statist', 'JJ'), ('model', 'NN')]\n"
     ]
    }
   ],
   "source": [
    "#the PoS algorithm in in the main nltk package\n",
    "import nltk\n",
    "print(nltk.pos_tag(text_stem))"
   ]
  },
  {
   "cell_type": "markdown",
   "metadata": {},
   "source": [
    "## Bag of words concept\n",
    "\n",
    "- Bag of words is a Natural Language Processing technique of text modelling. In technical terms, we can say that it is a method of feature extraction with text data. This approach is a simple and flexible way of extracting features from documents.\n",
    "<br><br>\n",
    "- One of the biggest problems with text is that it is messy and unstructured, and machine learning algorithms prefer structured, well defined fixed-length inputs and by using the Bag-of-Words technique we can convert variable-length texts into a fixed-length vector.\n",
    "<br><br>\n",
    "- With this we convert text to numbers "
   ]
  },
  {
   "cell_type": "markdown",
   "metadata": {},
   "source": [
    "Steps:\n",
    "1. tokenise the words\n",
    "2. create a dictionary of words [with key being the word and value being the frequency of the word]\n",
    "3. create bag of words model"
   ]
  },
  {
   "cell_type": "code",
   "execution_count": 20,
   "metadata": {},
   "outputs": [
    {
     "data": {
      "text/plain": [
       "{'graduated': 1,\n",
       " 'summer': 1,\n",
       " 'scholarship': 1,\n",
       " 'developing': 1,\n",
       " 'digital': 1,\n",
       " 'solutions': 1,\n",
       " 'interactive': 1,\n",
       " 'components': 1,\n",
       " 'medical': 1,\n",
       " 'widened': 1,\n",
       " 'thoughts': 1,\n",
       " 'developed': 1,\n",
       " 'field': 1,\n",
       " 'eager': 1,\n",
       " 'career': 1,\n",
       " 'gain': 1,\n",
       " 'experience': 2,\n",
       " 'position': 1,\n",
       " 'apply': 1,\n",
       " 'extensive': 2,\n",
       " 'knowledge': 1,\n",
       " 'interests': 1,\n",
       " 'skills': 1,\n",
       " 'institute': 1,\n",
       " 'tradition': 1,\n",
       " 'excellence': 1,\n",
       " 'reputation': 1,\n",
       " 'intellectual': 1,\n",
       " 'rigor': 1,\n",
       " 'matched': 1,\n",
       " 'passion': 1,\n",
       " 'quality': 1,\n",
       " 'commitment': 1,\n",
       " 'future': 1,\n",
       " 'development': 1,\n",
       " 'health': 1,\n",
       " 'policy': 2,\n",
       " 'research': 2,\n",
       " 'data': 1,\n",
       " 'analysis': 1,\n",
       " 'statistical': 1,\n",
       " 'modelling': 1}"
      ]
     },
     "execution_count": 20,
     "metadata": {},
     "output_type": "execute_result"
    }
   ],
   "source": [
    "#making dictionary\n",
    "wordfreq = {}\n",
    "for token in text_ws:\n",
    "        if token not in wordfreq.keys():\n",
    "            wordfreq[token] = 1\n",
    "        else:\n",
    "            wordfreq[token] += 1\n",
    "wordfreq"
   ]
  },
  {
   "cell_type": "code",
   "execution_count": 22,
   "metadata": {},
   "outputs": [
    {
     "name": "stdout",
     "output_type": "stream",
     "text": [
      "['I have also just graduated from a summer scholarship where I was developing digital solutions and novel interactive components for medical use, which further widened my thoughts on what can be developed in this field.', 'I am eager to further my career and gain more experience through this position, where I can apply my extensive knowledge interests and skills.', 'The Institute’s tradition of excellence and its reputation for intellectual rigor are matched by my own passion for quality and my commitment to the future development of health policy research.I have extensive experience in policy research and data analysis and statistical modelling.']\n"
     ]
    }
   ],
   "source": [
    "#sentence identification\n",
    "corpus = nltk.sent_tokenize(text)\n",
    "print(corpus)"
   ]
  },
  {
   "cell_type": "code",
   "execution_count": 23,
   "metadata": {},
   "outputs": [],
   "source": [
    "#create sentence vector to store the indivdual sentence vectors \n",
    "sentence_vectors = []\n",
    "for sentence in corpus:\n",
    "    sentence_tokens = nltk.word_tokenize(sentence)\n",
    "    sent_vec = []\n",
    "    for token in wordfreq:\n",
    "        if token in sentence_tokens:\n",
    "            sent_vec.append(1)\n",
    "        else:\n",
    "            sent_vec.append(0)\n",
    "    sentence_vectors.append(sent_vec)"
   ]
  },
  {
   "cell_type": "code",
   "execution_count": 25,
   "metadata": {},
   "outputs": [
    {
     "name": "stdout",
     "output_type": "stream",
     "text": [
      "[[1, 1, 1, 1, 1, 1, 1, 1, 1, 1, 1, 1, 1, 0, 0, 0, 0, 0, 0, 0, 0, 0, 0, 0, 0, 0, 0, 0, 0, 0, 0, 0, 0, 0, 0, 0, 0, 0, 0, 0, 0, 0], [0, 0, 0, 0, 0, 0, 0, 0, 0, 0, 0, 0, 0, 1, 1, 1, 1, 1, 1, 1, 1, 1, 1, 0, 0, 0, 0, 0, 0, 0, 0, 0, 0, 0, 0, 0, 0, 0, 0, 0, 0, 0], [0, 0, 0, 0, 0, 0, 0, 0, 0, 0, 0, 0, 0, 0, 0, 0, 1, 0, 0, 1, 0, 0, 0, 0, 1, 1, 1, 1, 1, 1, 1, 1, 1, 1, 1, 1, 1, 1, 1, 1, 1, 1]]\n"
     ]
    }
   ],
   "source": [
    "print(sentence_vectors)# this is our bag of words model that can be used as a feature for machine learning "
   ]
  },
  {
   "cell_type": "code",
   "execution_count": 26,
   "metadata": {},
   "outputs": [],
   "source": [
    "#https://towardsdatascience.com/machine-learning-nlp-text-classification-using-scikit-learn-python-and-nltk-c52b92a7c73a"
   ]
  },
  {
   "cell_type": "markdown",
   "metadata": {},
   "source": [
    "## TF-IDF model (Term Frequency * Inverse Document Frequency)"
   ]
  },
  {
   "cell_type": "markdown",
   "metadata": {},
   "source": [
    "- TF-IDF is a product of 2 algorithms <br><br>\n",
    "- TF(t) = (Number of times term t appears in a document) / (Total number of terms in the document)\n",
    "- IDF(t) = log_e(Total number of documents / Number of documents with term t in it)"
   ]
  },
  {
   "attachments": {
    "image.png": {
     "image/png": "[encoded data removed]"
    }
   },
   "cell_type": "markdown",
   "metadata": {},
   "source": [
    "![image.png](attachment:image.png)"
   ]
  },
  {
   "cell_type": "code",
   "execution_count": 27,
   "metadata": {},
   "outputs": [],
   "source": [
    "from sklearn.feature_extraction.text import TfidfVectorizer\n",
    "tf=TfidfVectorizer()\n",
    "text_tf= tf.fit_transform(corpus)"
   ]
  },
  {
   "cell_type": "code",
   "execution_count": 39,
   "metadata": {},
   "outputs": [
    {
     "name": "stdout",
     "output_type": "stream",
     "text": [
      "  (0, 55)\t0.2367607418602903\n",
      "  (0, 34)\t0.2367607418602903\n",
      "  (0, 37)\t0.2367607418602903\n",
      "  (0, 20)\t0.18006264680017628\n",
      "  (0, 4)\t0.2367607418602903\n",
      "  (0, 49)\t0.2367607418602903\n",
      "  (0, 62)\t0.2367607418602903\n",
      "  (0, 19)\t0.18006264680017628\n",
      "  (0, 41)\t0.2367607418602903\n",
      "  (0, 26)\t0.2367607418602903\n",
      "  (0, 9)\t0.2367607418602903\n",
      "  (0, 63)\t0.18006264680017628\n",
      "  (0, 17)\t0.2367607418602903\n",
      "  (0, 1)\t0.2367607418602903\n",
      "  (0, 60)\t0.18006264680017628\n",
      "  (0, 8)\t0.18006264680017628\n",
      "  (0, 42)\t0.27966941631381453\n",
      "  (0, 24)\t0.18006264680017628\n",
      "  (0, 3)\t0.27966941631381453\n",
      "  (0, 68)\t0.18006264680017628\n"
     ]
    }
   ],
   "source": [
    "print(text_tf[1,:])"
   ]
  },
  {
   "cell_type": "code",
   "execution_count": 38,
   "metadata": {},
   "outputs": [
    {
     "name": "stdout",
     "output_type": "stream",
     "text": [
      "[[0.         0.23676074 0.         0.27966942 0.23676074 0.\n",
      "  0.         0.         0.18006265 0.23676074 0.         0.\n",
      "  0.         0.         0.         0.         0.         0.23676074\n",
      "  0.         0.18006265 0.18006265 0.         0.         0.\n",
      "  0.18006265 0.         0.23676074 0.         0.         0.\n",
      "  0.         0.         0.         0.         0.23676074 0.\n",
      "  0.         0.23676074 0.         0.         0.         0.23676074\n",
      "  0.27966942 0.         0.         0.         0.         0.\n",
      "  0.         0.23676074 0.         0.         0.         0.\n",
      "  0.         0.23676074 0.         0.         0.         0.\n",
      "  0.18006265 0.         0.23676074 0.18006265 0.         0.\n",
      "  0.         0.         0.18006265 0.         0.        ]]\n"
     ]
    }
   ],
   "source": [
    "print(text_tf[1,:].toarray())"
   ]
  },
  {
   "cell_type": "code",
   "execution_count": null,
   "metadata": {},
   "outputs": [],
   "source": []
  }
 ],
 "metadata": {
  "kernelspec": {
   "display_name": "Python 3",
   "language": "python",
   "name": "python3"
  },
  "language_info": {
   "codemirror_mode": {
    "name": "ipython",
    "version": 3
   },
   "file_extension": ".py",
   "mimetype": "text/x-python",
   "name": "python",
   "nbconvert_exporter": "python",
   "pygments_lexer": "ipython3",
   "version": "3.8.5"
  }
 },
 "nbformat": 4,
 "nbformat_minor": 5
}
